{
 "cells": [
  {
   "cell_type": "code",
   "execution_count": 1,
   "metadata": {
    "id": "zX4Kg8DUTKWO"
   },
   "outputs": [],
   "source": [
    "#@title Licensed under the Apache License, Version 2.0 (the \"License\");\n",
    "# you may not use this file except in compliance with the License.\n",
    "# You may obtain a copy of the License at\n",
    "#\n",
    "# https://www.apache.org/licenses/LICENSE-2.0\n",
    "#\n",
    "# Unless required by applicable law or agreed to in writing, software\n",
    "# distributed under the License is distributed on an \"AS IS\" BASIS,\n",
    "# WITHOUT WARRANTIES OR CONDITIONS OF ANY KIND, either express or implied.\n",
    "# See the License for the specific language governing permissions and\n",
    "# limitations under the License."
   ]
  },
  {
   "cell_type": "code",
   "execution_count": 3,
   "metadata": {
    "id": "BOwsuGQQY9OL"
   },
   "outputs": [],
   "source": [
    "from tensorflow.keras.preprocessing.sequence import pad_sequences\n",
    "from tensorflow.keras.layers import Embedding, LSTM, Dense, Dropout, Bidirectional\n",
    "from tensorflow.keras.preprocessing.text import Tokenizer\n",
    "from tensorflow.keras.models import Sequential\n",
    "from tensorflow.keras.optimizers import Adam\n",
    "### YOUR CODE HERE\n",
    "# Figure out how to import regularizers\n",
    "from tensorflow.keras import regularizers\n",
    "###\n",
    "import tensorflow.keras.utils as ku \n",
    "import numpy as np "
   ]
  },
  {
   "cell_type": "code",
   "execution_count": 4,
   "metadata": {
    "id": "PRnDnCW-Z7qv"
   },
   "outputs": [
    {
     "name": "stdout",
     "output_type": "stream",
     "text": [
      "Warning: Failed to set locale category LC_NUMERIC to id_ID.\n",
      "Warning: Failed to set locale category LC_TIME to id_ID.\n",
      "Warning: Failed to set locale category LC_COLLATE to id_ID.\n",
      "Warning: Failed to set locale category LC_MONETARY to id_ID.\n",
      "Warning: Failed to set locale category LC_MESSAGES to id_ID.\n",
      "--2021-04-06 16:58:07--  https://storage.googleapis.com/laurencemoroney-blog.appspot.com/sonnets.txt\n",
      "Resolving storage.googleapis.com (storage.googleapis.com)... 34.101.5.112, 34.101.5.16, 34.101.5.48, ...\n",
      "Menghubungi storage.googleapis.com (storage.googleapis.com)|34.101.5.112|:443... terhubung.\n",
      "Permintaan HTTP dikirimkan, menunggu balasan... 200 OK\n",
      "Besar: 93578 (91K) [text/plain]\n",
      "Simpan ke: `/tmp/sonnets.txt'\n",
      "\n",
      "/tmp/sonnets.txt    100%[===================>]  91.38K  --.-KB/s    in 0.07s   \n",
      "\n",
      "2021-04-06 16:58:08 (1.21 MB/s) - `/tmp/sonnets.txt' disimpan [93578/93578]\n",
      "\n"
     ]
    }
   ],
   "source": [
    "tokenizer = Tokenizer()\n",
    "!wget --no-check-certificate \\\n",
    "    https://storage.googleapis.com/laurencemoroney-blog.appspot.com/sonnets.txt \\\n",
    "    -O /tmp/sonnets.txt\n",
    "data = open('/tmp/sonnets.txt').read()\n",
    "\n",
    "corpus = data.lower().split(\"\\n\")\n",
    "\n",
    "\n",
    "tokenizer.fit_on_texts(corpus)\n",
    "total_words = len(tokenizer.word_index) + 1\n",
    "\n",
    "# create input sequences using list of tokens\n",
    "input_sequences = []\n",
    "for line in corpus:\n",
    "\ttoken_list = tokenizer.texts_to_sequences([line])[0]\n",
    "\tfor i in range(1, len(token_list)):\n",
    "\t\tn_gram_sequence = token_list[:i+1]\n",
    "\t\tinput_sequences.append(n_gram_sequence)\n",
    "\n",
    "\n",
    "# pad sequences \n",
    "max_sequence_len = max([len(x) for x in input_sequences])\n",
    "input_sequences = np.array(pad_sequences(input_sequences, maxlen=max_sequence_len, padding='pre'))\n",
    "\n",
    "# create predictors and label\n",
    "predictors, label = input_sequences[:,:-1],input_sequences[:,-1]\n",
    "\n",
    "label = ku.to_categorical(label, num_classes=total_words)"
   ]
  },
  {
   "cell_type": "code",
   "execution_count": 12,
   "metadata": {
    "id": "w9vH8Y59ajYL"
   },
   "outputs": [
    {
     "name": "stdout",
     "output_type": "stream",
     "text": [
      "Model: \"sequential_2\"\n",
      "_________________________________________________________________\n",
      "Layer (type)                 Output Shape              Param #   \n",
      "=================================================================\n",
      "embedding_2 (Embedding)      (None, 10, 100)           321100    \n",
      "_________________________________________________________________\n",
      "bidirectional_2 (Bidirection (None, 10, 300)           301200    \n",
      "_________________________________________________________________\n",
      "dropout_2 (Dropout)          (None, 10, 300)           0         \n",
      "_________________________________________________________________\n",
      "lstm_5 (LSTM)                (None, 100)               160400    \n",
      "_________________________________________________________________\n",
      "dense_4 (Dense)              (None, 1605)              162105    \n",
      "_________________________________________________________________\n",
      "dense_5 (Dense)              (None, 3211)              5156866   \n",
      "=================================================================\n",
      "Total params: 6,101,671\n",
      "Trainable params: 6,101,671\n",
      "Non-trainable params: 0\n",
      "_________________________________________________________________\n",
      "None\n"
     ]
    }
   ],
   "source": [
    "model = Sequential()\n",
    "model.add(Embedding(total_words, 100, input_length=max_sequence_len-1))# Your Embedding Layer)\n",
    "model.add(Bidirectional(LSTM(150, return_sequences = True)))# An LSTM Layer)\n",
    "model.add(Dropout(0.2))# A dropout layer)\n",
    "model.add(LSTM(100))# Another LSTM Layer)\n",
    "model.add(Dense(total_words/2, activation='relu', kernel_regularizer=regularizers.l2(0.01)))# A Dense Layer including regularizers)\n",
    "model.add(Dense (total_words, activation='softmax'))# A Dense Layer)\n",
    "# Pick an optimizer\n",
    "model.compile(loss='categorical_crossentropy', optimizer='adam', metrics=['accuracy'])# Pick a loss function and an optimizer)\n",
    "print(model.summary())\n"
   ]
  },
  {
   "cell_type": "code",
   "execution_count": null,
   "metadata": {
    "id": "AIg2f1HBxqof"
   },
   "outputs": [
    {
     "name": "stdout",
     "output_type": "stream",
     "text": [
      "Epoch 1/100\n",
      "484/484 [==============================] - 51s 95ms/step - loss: 7.3513 - accuracy: 0.0203\n",
      "Epoch 2/100\n",
      "484/484 [==============================] - 46s 95ms/step - loss: 6.4867 - accuracy: 0.0201\n",
      "Epoch 3/100\n",
      "484/484 [==============================] - 57s 118ms/step - loss: 6.3923 - accuracy: 0.0226\n",
      "Epoch 4/100\n",
      "484/484 [==============================] - 63s 130ms/step - loss: 6.2800 - accuracy: 0.0306\n",
      "Epoch 5/100\n",
      "484/484 [==============================] - 72s 149ms/step - loss: 6.1323 - accuracy: 0.0318\n",
      "Epoch 6/100\n",
      "484/484 [==============================] - 65s 135ms/step - loss: 6.0612 - accuracy: 0.0414\n",
      "Epoch 7/100\n",
      "484/484 [==============================] - 62s 129ms/step - loss: 5.9821 - accuracy: 0.0399\n",
      "Epoch 8/100\n",
      "484/484 [==============================] - 62s 128ms/step - loss: 5.9480 - accuracy: 0.0416\n",
      "Epoch 9/100\n",
      "484/484 [==============================] - 58s 120ms/step - loss: 5.8208 - accuracy: 0.0462\n",
      "Epoch 10/100\n",
      "484/484 [==============================] - 57s 117ms/step - loss: 5.7601 - accuracy: 0.0518\n",
      "Epoch 11/100\n",
      "484/484 [==============================] - 61s 125ms/step - loss: 5.5937 - accuracy: 0.0612\n",
      "Epoch 12/100\n",
      "484/484 [==============================] - 61s 126ms/step - loss: 5.5109 - accuracy: 0.0669\n",
      "Epoch 13/100\n",
      "484/484 [==============================] - 52s 107ms/step - loss: 5.3873 - accuracy: 0.0738\n",
      "Epoch 14/100\n",
      "484/484 [==============================] - 52s 107ms/step - loss: 5.2691 - accuracy: 0.0804\n",
      "Epoch 15/100\n",
      "484/484 [==============================] - 54s 111ms/step - loss: 5.1966 - accuracy: 0.0844\n",
      "Epoch 16/100\n",
      "484/484 [==============================] - 53s 110ms/step - loss: 5.0642 - accuracy: 0.0981\n",
      "Epoch 17/100\n",
      "484/484 [==============================] - 56s 116ms/step - loss: 4.9708 - accuracy: 0.1009\n",
      "Epoch 18/100\n",
      "278/484 [================>.............] - ETA: 22s - loss: 4.8406 - accuracy: 0.1196"
     ]
    }
   ],
   "source": [
    " history = model.fit(predictors, label, epochs=100, verbose=1)"
   ]
  },
  {
   "cell_type": "code",
   "execution_count": null,
   "metadata": {
    "id": "1fXTEO3GJ282"
   },
   "outputs": [],
   "source": [
    "import matplotlib.pyplot as plt\n",
    "acc = history.history['accuracy']\n",
    "loss = history.history['loss']\n",
    "\n",
    "epochs = range(len(acc))\n",
    "\n",
    "plt.plot(epochs, acc, 'b', label='Training accuracy')\n",
    "plt.title('Training accuracy')\n",
    "\n",
    "plt.figure()\n",
    "\n",
    "plt.plot(epochs, loss, 'b', label='Training Loss')\n",
    "plt.title('Training loss')\n",
    "plt.legend()\n",
    "\n",
    "plt.show()"
   ]
  },
  {
   "cell_type": "code",
   "execution_count": null,
   "metadata": {
    "id": "6Vc6PHgxa6Hm"
   },
   "outputs": [],
   "source": [
    "seed_text = \"Help me Obi Wan Kenobi, you're my only hope\"\n",
    "next_words = 100\n",
    "  \n",
    "for _ in range(next_words):\n",
    "\ttoken_list = tokenizer.texts_to_sequences([seed_text])[0]\n",
    "\ttoken_list = pad_sequences([token_list], maxlen=max_sequence_len-1, padding='pre')\n",
    "\tpredicted = model.predict_classes(token_list, verbose=0)\n",
    "\toutput_word = \"\"\n",
    "\tfor word, index in tokenizer.word_index.items():\n",
    "\t\tif index == predicted:\n",
    "\t\t\toutput_word = word\n",
    "\t\t\tbreak\n",
    "\tseed_text += \" \" + output_word\n",
    "print(seed_text)"
   ]
  }
 ],
 "metadata": {
  "accelerator": "GPU",
  "colab": {
   "name": "Generate-Shakespare.ipynb",
   "provenance": [],
   "toc_visible": true
  },
  "kernelspec": {
   "display_name": "Python 3",
   "language": "python",
   "name": "python3"
  },
  "language_info": {
   "codemirror_mode": {
    "name": "ipython",
    "version": 3
   },
   "file_extension": ".py",
   "mimetype": "text/x-python",
   "name": "python",
   "nbconvert_exporter": "python",
   "pygments_lexer": "ipython3",
   "version": "3.7.4"
  }
 },
 "nbformat": 4,
 "nbformat_minor": 1
}
